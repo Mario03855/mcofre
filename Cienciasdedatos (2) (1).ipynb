{
  "metadata": {
    "kernelspec": {
      "name": "python",
      "display_name": "Python (Pyodide)",
      "language": "python"
    },
    "language_info": {
      "codemirror_mode": {
        "name": "python",
        "version": 3
      },
      "file_extension": ".py",
      "mimetype": "text/x-python",
      "name": "python",
      "nbconvert_exporter": "python",
      "pygments_lexer": "ipython3",
      "version": "3.8"
    }
  },
  "nbformat_minor": 5,
  "nbformat": 4,
  "cells": [
    {
      "id": "7a6584a0-d162-400a-8fdd-15b7c1cd74c6",
      "cell_type": "markdown",
      "source": "**Data Science Tools and Ecosystem**",
      "metadata": {}
    },
    {
      "id": "cc996c7a-c9c2-4dac-92ca-1fa3f0500886",
      "cell_type": "markdown",
      "source": "Ejercicio 3 - Cree una celda markdown para una introducción. (1 pto)",
      "metadata": {}
    },
    {
      "id": "c19e408c-6c97-45f6-a498-9207ef494304",
      "cell_type": "markdown",
      "source": "In this notebook Data Science Tools and Ecosystem are summarized",
      "metadata": {}
    },
    {
      "id": "0a05d51a-87da-4dfa-aeb5-5daa9f5833f2",
      "cell_type": "markdown",
      "source": "Ejercicio 4 - Cree una celda markdown para enumerar los lenguajes de la ciencia de datos (3 ptos)",
      "metadata": {}
    },
    {
      "id": "a5e2dea7-5769-4d15-92e4-bd377f9874df",
      "cell_type": "markdown",
      "source": "Some of the popula languages that Data Scientist use are:\n1. Python\n2. R\n3. SQL\n4. Julia\n5. Scala  ",
      "metadata": {}
    },
    {
      "id": "730dcae4-7a90-478f-82ed-701825e06755",
      "cell_type": "code",
      "source": "Ejercicio 5 - Cree una celda markdown para listar bibliotecas de ciencia de datos (3 ptos)",
      "metadata": {
        "trusted": true
      },
      "outputs": [],
      "execution_count": null
    },
    {
      "id": "eacb72a3-0c60-4a8d-bcfc-343bc1a65c12",
      "cell_type": "markdown",
      "source": "Some of the commonly used libraries used by Data Scientists include:  \n1. Pandas  \n2. NumPy\n3. Matplotlib\n4. Seaborn\n5. Scikit-learn\n6. TensorFlow\n7. PyTorch  ",
      "metadata": {}
    },
    {
      "id": "2c80b23e-3d15-4bec-931e-74cb3c34d93e",
      "cell_type": "markdown",
      "source": "Ejercicio 6 - Cree una celda markdown con una tabla de herramientas de Ciencia de Datos (3 ptos)",
      "metadata": {}
    },
    {
      "id": "c4f2afe1-ee09-4c70-ab6f-fa9a1345b783",
      "cell_type": "markdown",
      "source": "| Tool             | Category         |\n|------------------|------------------|\n| Jupyter Notebook | IDE / Notebook   |\n| RStudio          | IDE              |\n| Apache Spark     | Big Data Engine  |\n| TensorFlow       | Deep Learning    |\n| GitHub           | Code Repository  |",
      "metadata": {}
    },
    {
      "id": "63fbfd03-f6cd-42de-8479-6645b5755041",
      "cell_type": "markdown",
      "source": "Ejercicio 7 - Cree una celda markdown introduciendo ejemplos de expresiones aritméticas. (1 pto)",
      "metadata": {}
    },
    {
      "id": "1cd45434-718d-4ad9-848c-74d673f90349",
      "cell_type": "markdown",
      "source": "#Ejemplos \n\n- Adicion: \" 5 + 2 \" = 7\n- Subtracción: \" 10 - 4 \" = 6\n- Multiplicación: \" 3 * 4 \" = 12\n- División: \" 12/3 \" = 4\n\n",
      "metadata": {}
    },
    {
      "id": "4155e252-7183-4d16-bfd6-2d3ccef68ac6",
      "cell_type": "code",
      "source": "Ejercicio 8 - Cree una celda de códigopara multiplicar y sumar números. (2 ptos)",
      "metadata": {
        "trusted": true
      },
      "outputs": [],
      "execution_count": null
    },
    {
      "id": "71657b59-9e95-4cc4-83c8-41c6a0b55516",
      "cell_type": "code",
      "source": "# This is a simple arithmetic expression to multiply then add integers\n(3 * 4) + 5",
      "metadata": {
        "trusted": true
      },
      "outputs": [
        {
          "execution_count": 2,
          "output_type": "execute_result",
          "data": {
            "text/plain": "17"
          },
          "metadata": {}
        }
      ],
      "execution_count": 2
    },
    {
      "id": "1982df23-6615-4fc0-861c-113f13302245",
      "cell_type": "code",
      "source": "Ejercicio 9 - Cree una celda de código para convertir minutos en horas. (2 ptos)",
      "metadata": {
        "trusted": true
      },
      "outputs": [],
      "execution_count": null
    },
    {
      "id": "5d7f7c48-7b9b-4e5f-a86a-31bf98c82f9b",
      "cell_type": "code",
      "source": "# This will convert 200 minutes to hours by dividing by 60\n200 / 60",
      "metadata": {
        "trusted": true
      },
      "outputs": [
        {
          "execution_count": 3,
          "output_type": "execute_result",
          "data": {
            "text/plain": "3.3333333333333335"
          },
          "metadata": {}
        }
      ],
      "execution_count": 3
    },
    {
      "id": "4abed44e-ac4d-4aa9-bce1-ae6efa51ef3f",
      "cell_type": "code",
      "source": "Ejercicio 10 -Inserte una celda de código para listar Objetivos. (3 pts)",
      "metadata": {
        "trusted": true
      },
      "outputs": [],
      "execution_count": null
    },
    {
      "id": "e0e0ef7c-a478-4d85-bab7-dff8c799dc2c",
      "cell_type": "markdown",
      "source": "**Objectives:**\n\n- List popular languages for Data Science\n- List commonly used libraries for Data Science\n- Create tables using markdown\n- Perform arithmetic operations using Python code\n- Convert minutes to hours using Python code\n",
      "metadata": {}
    },
    {
      "id": "2ec7dd01-4f7b-432e-aece-68a2a83bf201",
      "cell_type": "code",
      "source": "Ejercicio 11 - Cree una celda markdown para indicar el nombre del Autor. (2 ptos)",
      "metadata": {
        "trusted": true
      },
      "outputs": [],
      "execution_count": null
    },
    {
      "id": "8cdda438-dc5d-4e64-bdc9-1ea8b8754776",
      "cell_type": "markdown",
      "source": "**Autor:**\n\nMario C.",
      "metadata": {}
    },
    {
      "id": "30505b4a-1a9c-491e-8aa1-f5c3cd64ffc1",
      "cell_type": "code",
      "source": "",
      "metadata": {
        "trusted": true
      },
      "outputs": [],
      "execution_count": null
    }
  ]
}